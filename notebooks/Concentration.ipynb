{
 "cells": [
  {
   "cell_type": "code",
   "execution_count": 44,
   "id": "02d5083d",
   "metadata": {},
   "outputs": [],
   "source": [
    "import numpy as np\n",
    "import pandas as pd\n",
    "import matplotlib.pyplot as plt\n",
    "import csv"
   ]
  },
  {
   "cell_type": "code",
   "execution_count": 45,
   "id": "963c223e",
   "metadata": {},
   "outputs": [],
   "source": [
    "#file name\n",
    "fname=\"test.tsv\"\n",
    "#assay date & name\n",
    "asname=\"21xxxx_dna-dye\"\n",
    "\n",
    "#the information about what you want to measure (dna or protein)\n",
    "#absorbance max\n",
    "mol_wl=260\n",
    "#extinction coefficient\n",
    "mol_coef=230364\n",
    "#correction factor for tag\n",
    "#if not needed, please enter '0'\n",
    "mol_cf=0\n",
    "\n",
    "#the information about what you want to measure together with other molecule (dna or protein)\n",
    "#absorbance max\n",
    "tag_wl=500\n",
    "#extinction coefficient\n",
    "tag_coef=90000\n",
    "#correction factor for tag\n",
    "#if not needed, please enter '0'\n",
    "tag_cf=0.22\n",
    "\n",
    "#pathlength of nanodrop\n",
    "pl=0.1"
   ]
  },
  {
   "cell_type": "code",
   "execution_count": 46,
   "id": "36908340",
   "metadata": {},
   "outputs": [
    {
     "name": "stderr",
     "output_type": "stream",
     "text": [
      "<ipython-input-46-245df0f12974>:23: DeprecationWarning: `np.float` is a deprecated alias for the builtin `float`. To silence this warning, use `float` by itself. Doing this will not modify any behavior and is safe. If you specifically wanted the numpy scalar type, use `np.float64` here.\n",
      "Deprecated in NumPy 1.20; for more details and guidance: https://numpy.org/devdocs/release/1.20.0-notes.html#deprecations\n",
      "  data[i][0][0]:np.float})\n"
     ]
    }
   ],
   "source": [
    "test=[]\n",
    "with open(fname) as file:\n",
    "    tsv_file=csv.reader(file,delimiter='\\t')\n",
    "    for line in tsv_file:\n",
    "        test.append(line)\n",
    "        \n",
    "num=int((test.count([])/2)+1)\n",
    "if num==1:\n",
    "    line_num=len(test)\n",
    "else:\n",
    "    line_num=test.index([])\n",
    "\n",
    "data=[]\n",
    "for i in range(num):\n",
    "    data.append(test[i*(line_num+2):line_num+i*(line_num+2)])\n",
    "\n",
    "dfs=[]\n",
    "for i in range(num):\n",
    "    df=pd.DataFrame(data[i])\n",
    "    df.columns=[data[i][2][0],data[i][0][0]]\n",
    "    df=df.drop(df.index[0:3])\n",
    "    df=df.astype({data[i][2][0]:int,\n",
    "                  data[i][0][0]:np.float})\n",
    "    dfs.append(df)\n",
    "    if i>0:\n",
    "        dfs[i].drop(data[i][2][0],axis='columns',inplace=True)\n",
    "\n",
    "result=pd.concat(dfs,axis=1)\n",
    "result=result.reset_index(drop=True)"
   ]
  },
  {
   "cell_type": "code",
   "execution_count": 47,
   "id": "d901afae",
   "metadata": {
    "scrolled": true
   },
   "outputs": [
    {
     "data": {
      "image/png": "[encoded data removed]",
      "text/plain": [
       "<Figure size 360x360 with 1 Axes>"
      ]
     },
     "metadata": {
      "needs_background": "light"
     },
     "output_type": "display_data"
    }
   ],
   "source": [
    "fig, ax=plt.subplots(figsize=(5,5))\n",
    "x=result.loc[:,['Wavelength (nm)']]\n",
    "\n",
    "yval=result.drop(['Wavelength (nm)'],axis=1)\n",
    "\n",
    "for i in yval.columns:\n",
    "    y=yval.loc[:,[i]]\n",
    "    ax.plot(x,y,label=i, alpha=0.5, linewidth=2)\n",
    "\n",
    "#line\n",
    "plt.axvline(mol_wl, color='black', linestyle='--', linewidth=2, alpha=0.3)\n",
    "plt.axvline(tag_wl, color='black', linestyle='--', linewidth=2, alpha=0.3)\n",
    "\n",
    "plt.ylim (-0.05,1)\n",
    "plt.xlim (190,840)\n",
    "plt.xlabel('Wavelength (nm)')\n",
    "plt.ylabel('1 mm Absorbance')\n",
    "plt.legend()\n",
    "plt.grid(True)\n",
    "plt.savefig(asname+'.png')\n",
    "plt.show()"
   ]
  },
  {
   "cell_type": "code",
   "execution_count": 48,
   "id": "39591816",
   "metadata": {},
   "outputs": [],
   "source": [
    "mol_data=[]\n",
    "for l in yval.columns:\n",
    "    mol_data.append(yval.loc[mol_wl-x.loc[0][0],[l]].values)\n",
    "\n",
    "if tag_wl>0:\n",
    "    tag_data=[]\n",
    "    for j in yval.columns:\n",
    "        tag_data.append(yval.loc[tag_wl-x.loc[0][0],[j]].values)\n",
    "\n",
    "def cal(a,b,c,d,e):\n",
    "    return (a-(b*c))/d/e*1000000\n",
    "\n",
    "mol_conc=[]\n",
    "if tag_wl>0:\n",
    "    for m in range(num):\n",
    "        mol_conc.append(cal(mol_data[m],tag_data[m],tag_cf,mol_coef,pl))\n",
    "else:\n",
    "    for m in range(num):\n",
    "        mol_conc.append(cal(mol_data[m],0,tag_cf,mol_coef,pl))\n",
    "\n",
    "if tag_wl>0:\n",
    "    tag_conc=[]\n",
    "    for k in range(num):\n",
    "        tag_conc.append(cal(tag_data[k],mol_data[k],mol_cf,tag_coef,pl))\n",
    "\n",
    "def eff(a,b):\n",
    "    return (a/b*100)\n",
    "\n",
    "if tag_wl>0:\n",
    "    label_eff=[]\n",
    "    for n in range(num):\n",
    "        label_eff.append(eff(tag_conc[n],mol_conc[n]))\n",
    "\n",
    "\n",
    "final_mol=pd.DataFrame(mol_conc,index=yval.columns.values,columns=['Molecule conc.(µM)'])\n",
    "if tag_wl>0:\n",
    "    final_tag=pd.DataFrame(tag_conc,index=yval.columns.values,columns=['tag conc.(µM)'])\n",
    "    final_eff=pd.DataFrame(label_eff,index=yval.columns.values,columns=['Labeling efficiency(%)'])\n",
    "\n",
    "if tag_wl>0:\n",
    "    final=final_mol.merge(final_tag,left_index=True,\n",
    "                          right_index=True).merge(final_eff,\n",
    "                                                  left_index=True,right_index=True)\n",
    "else:\n",
    "    final=final_mol\n",
    "final.to_csv(asname+'_final.csv',encoding='utf-8')\n",
    "final"
   ]
  }
 ],
 "metadata": {
  "kernelspec": {
   "display_name": "Python 3",
   "language": "python",
   "name": "python3"
  },
  "language_info": {
   "codemirror_mode": {
    "name": "ipython",
    "version": 3
   },
   "file_extension": ".py",
   "mimetype": "text/x-python",
   "name": "python",
   "nbconvert_exporter": "python",
   "pygments_lexer": "ipython3",
   "version": "3.9.5"
  }
 },
 "nbformat": 4,
 "nbformat_minor": 5
}
