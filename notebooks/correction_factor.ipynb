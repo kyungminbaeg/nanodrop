{
 "cells": [
  {
   "cell_type": "code",
   "execution_count": 1,
   "metadata": {},
   "outputs": [],
   "source": [
    "import numpy as np\n",
    "import pandas as pd\n",
    "import matplotlib.pyplot as plt\n",
    "import csv"
   ]
  },
  {
   "cell_type": "code",
   "execution_count": 2,
   "metadata": {},
   "outputs": [],
   "source": [
    "#file name\n",
    "fname=\"dye.tsv\"\n",
    "#assay date & name\n",
    "asname=\"21xxxx_dye_cf\"\n",
    "\n",
    "#absorbance max for a molecule\n",
    "wl=609\n",
    "#absorbance for what you want to know\n",
    "interest=260"
   ]
  },
  {
   "cell_type": "code",
   "execution_count": 3,
   "metadata": {},
   "outputs": [],
   "source": [
    "test=[]\n",
    "with open(fname) as file:\n",
    "    tsv_file=csv.reader(file,delimiter='\\t')\n",
    "    for line in tsv_file:\n",
    "        test.append(line)\n",
    "        \n",
    "num=int((test.count([])/2)+1)\n",
    "if num==1:\n",
    "    line_num=len(test)\n",
    "else:\n",
    "    line_num=test.index([])\n",
    "\n",
    "data=[]\n",
    "for i in range(num):\n",
    "    data.append(test[i*(line_num+2):line_num+i*(line_num+2)])\n",
    "\n",
    "dfs=[]\n",
    "for i in range(num):\n",
    "    df=pd.DataFrame(data[i])\n",
    "    df.columns=[data[i][2][0],data[i][0][0]]\n",
    "    df=df.drop(df.index[0:3])\n",
    "    df=df.astype({data[i][2][0]:int,\n",
    "                  data[i][0][0]:np.float})\n",
    "    dfs.append(df)\n",
    "    if i>0:\n",
    "        dfs[i].drop(data[i][2][0],axis='columns',inplace=True)\n",
    "\n",
    "result=pd.concat(dfs,axis=1)\n",
    "result=result.reset_index(drop=True)"
   ]
  },
  {
   "cell_type": "code",
   "execution_count": 4,
   "metadata": {
    "scrolled": true
   },
   "outputs": [
    {
     "data": {
      "image/png": "[encoded data removed]",
      "text/plain": [
       "<Figure size 360x360 with 1 Axes>"
      ]
     },
     "metadata": {
      "needs_background": "light"
     },
     "output_type": "display_data"
    }
   ],
   "source": [
    "fig, ax=plt.subplots(figsize=(5,5))\n",
    "x=result.loc[:,['Wavelength (nm)']]\n",
    "\n",
    "yval=result.drop([\"Wavelength (nm)\"],axis=1)\n",
    "\n",
    "for i in yval.columns:\n",
    "    y=yval.loc[:,[i]]\n",
    "    ax.plot(x,y,label=i, alpha=0.5, linewidth=2)\n",
    "\n",
    "#line\n",
    "plt.axvline(wl, color='black', linestyle='--', linewidth=2, alpha=0.3)\n",
    "plt.axvline(interest, color='black', linestyle='--', linewidth=2, alpha=0.3)\n",
    "\n",
    "plt.ylim (-0.05,2)\n",
    "plt.xlim (190,840)\n",
    "plt.xlabel('Wavelength (nm)')\n",
    "plt.ylabel('1 mm Absorbance')\n",
    "plt.legend()\n",
    "plt.grid(True)\n",
    "plt.savefig(asname+'.png')\n",
    "plt.show()"
   ]
  },
  {
   "cell_type": "code",
   "execution_count": 5,
   "metadata": {},
   "outputs": [
    {
     "data": {
      "text/html": [
       "<div>\n",
       "<style scoped>\n",
       "    .dataframe tbody tr th:only-of-type {\n",
       "        vertical-align: middle;\n",
       "    }\n",
       "\n",
       "    .dataframe tbody tr th {\n",
       "        vertical-align: top;\n",
       "    }\n",
       "\n",
       "    .dataframe thead th {\n",
       "        text-align: right;\n",
       "    }\n",
       "</style>\n",
       "<table border=\"1\" class=\"dataframe\">\n",
       "  <thead>\n",
       "    <tr style=\"text-align: right;\">\n",
       "      <th></th>\n",
       "      <th>Correction factor</th>\n",
       "    </tr>\n",
       "  </thead>\n",
       "  <tbody>\n",
       "    <tr>\n",
       "      <th>dye</th>\n",
       "      <td>0.291578</td>\n",
       "    </tr>\n",
       "  </tbody>\n",
       "</table>\n",
       "</div>"
      ],
      "text/plain": [
       "     Correction factor\n",
       "dye           0.291578"
      ]
     },
     "execution_count": 5,
     "metadata": {},
     "output_type": "execute_result"
    }
   ],
   "source": [
    "abs_data=[]\n",
    "for j in yval.columns:\n",
    "    abs_data.append(yval.loc[wl-x.loc[0][0],[j]].values)\n",
    "\n",
    "interest_data=[]\n",
    "for k in yval.columns:\n",
    "    interest_data.append(yval.loc[interest-x.loc[0][0],[k]].values)\n",
    "\n",
    "def cf(a,b):\n",
    "    return b/a\n",
    "\n",
    "corr_data=[]\n",
    "for l in range(num):\n",
    "    corr_data.append(cf(abs_data[l],interest_data[l]))\n",
    "\n",
    "final=pd.DataFrame(corr_data,index=yval.columns.values,columns=['Correction factor'])\n",
    "final.to_csv(asname+'_final.csv',encoding='utf-8')\n",
    "final"
   ]
  }
 ],
 "metadata": {
  "kernelspec": {
   "display_name": "Python 3",
   "language": "python",
   "name": "python3"
  },
  "language_info": {
   "codemirror_mode": {
    "name": "ipython",
    "version": 3
   },
   "file_extension": ".py",
   "mimetype": "text/x-python",
   "name": "python",
   "nbconvert_exporter": "python",
   "pygments_lexer": "ipython3",
   "version": "3.8.5"
  }
 },
 "nbformat": 4,
 "nbformat_minor": 5
}
